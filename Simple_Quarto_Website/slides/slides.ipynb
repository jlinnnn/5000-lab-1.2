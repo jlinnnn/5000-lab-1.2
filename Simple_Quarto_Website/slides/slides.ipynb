{
 "cells": [
  {
   "cell_type": "markdown",
   "metadata": {},
   "source": [
    "---\n",
    "title: \"5000 slides\"\n",
    "author: \"Joshua Lin\"\n",
    "format: \n",
    "    revealjs:\n",
    "        code-fold: true\n",
    "        code-tools: true\n",
    "        code-link: true\n",
    "jupyter: python3\n",
    "execute:\n",
    "    echo: true\n",
    "    eval: true\n",
    "    output: true\n",
    "bibliography: \"../reference.bib\"\n",
    "\n",
    "---\n",
    "\n",
    "## Image 1\n",
    "[Data Science 1](../images/data%20science.jpg)\n",
    "\n",
    "## Image 2\n",
    "[Data Science 2](../images/DS1.jpg)\n",
    "\n",
    "## Python Code\n",
    "```{.python }\n",
    "import matplotlib.pyplot as plt\n",
    "import numpy as np\n",
    "\n",
    "\n",
    "x = np.linspace(0, 10, 100)\n",
    "y = 6 * x + 15\n",
    "plt.figure(figsize=(10, 6))\n",
    "plt.plot(x, y, '--r', label='y = 6x + 15') \n",
    "\n",
    "# Customize the plot\n",
    "plt.xlabel('x')\n",
    "plt.ylabel('y')\n",
    "plt.title('Basic Line Plot')\n",
    "plt.legend()\n",
    "\n",
    "plt.show()\n",
    "```\n",
    "\n",
    "\n",
    "## References\n",
    "\n",
    "[@mahesh2020machine]\n"
   ]
  }
 ],
 "metadata": {
  "kernelspec": {
   "display_name": "base",
   "language": "python",
   "name": "python3"
  },
  "language_info": {
   "name": "python",
   "version": "3.11.7"
  }
 },
 "nbformat": 4,
 "nbformat_minor": 2
}
